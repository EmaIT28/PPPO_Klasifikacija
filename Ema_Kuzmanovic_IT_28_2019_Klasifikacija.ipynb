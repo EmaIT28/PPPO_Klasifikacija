{
  "cells": [
    {
      "cell_type": "markdown",
      "metadata": {
        "id": "view-in-github",
        "colab_type": "text"
      },
      "source": [
        "<a href=\"https://colab.research.google.com/github/EmaIT28/PPPO_Klasifikacija/blob/main/Ema_Kuzmanovic_IT_28_2019_Klasifikacija.ipynb\" target=\"_parent\"><img src=\"https://colab.research.google.com/assets/colab-badge.svg\" alt=\"Open In Colab\"/></a>"
      ]
    },
    {
      "cell_type": "markdown",
      "metadata": {
        "id": "GejmAeGckMNa"
      },
      "source": [
        "**Predmet: Principi prezentacije i prepoznavanje oblika**\n",
        "\n",
        "**Tema: Klasifikacija**\n",
        "\n",
        "**Student:Ema Kuzmanović IT-28/2019**\n"
      ]
    },
    {
      "cell_type": "markdown",
      "metadata": {
        "id": "Tfnt8Wa1k609"
      },
      "source": [
        "**Klasifikacija**\n",
        "\n",
        "Klasifikacija je postupak predviđanja/određivanja klase datih tačaka podataka korišćenjem postejećeg označavanja tačaka. Klasifikacija se ubraja u kategoriju nadgledanog mašinskog učenja. U okviru mašinskog učenja, konkretno za uspešnost zadataka klasifikacije, ulazni set podataka mora biti obiman i raznovrstan.\n",
        "\n",
        "---\n",
        "\n",
        "\n",
        "\n",
        "Dataset sadrži slike pasa raspoređenih u dva foldera, folder \"train\" i folder \"test\", kao i dva csv fajla, \"labels\" i \"sample_submissions\" u prvom se nalaze definisane slike(id) i rasu pasa(breed), dok drugi sadrži željeni krajnji izlaz programa.\n",
        "\n"
      ]
    },
    {
      "cell_type": "markdown",
      "metadata": {
        "id": "9dvOjdFzeB98"
      },
      "source": [
        "**Importi**\n",
        "\n",
        "Definisanje neophodnih biblioteka"
      ]
    },
    {
      "cell_type": "code",
      "execution_count": null,
      "metadata": {
        "id": "A76iE_4JAylV"
      },
      "outputs": [],
      "source": [
        "import zipfile\n",
        "zip_path = r\"C:\\Users\\Ema\\Desktop\\FAKS\\CETVRTA GOD\\prepoznavanje oblika\\Dog_Classification.zip\"\n",
        "extract_path = r\"D:\\Dogs\"\n",
        "with zipfile.ZipFile(zip_path, 'r') as zip_ref:\n",
        "    zip_ref.extractall(extract_path)"
      ]
    },
    {
      "cell_type": "code",
      "execution_count": null,
      "metadata": {
        "id": "fXz0M1Eteq8q"
      },
      "outputs": [],
      "source": [
        "import numpy as np\n",
        "import pandas as pd\n",
        "import os, cv2, random, time, shutil, csv\n",
        "import tensorflow as tf\n",
        "import seaborn as sns\n",
        "import matplotlib.pyplot as plt\n",
        "import matplotlib.image as mpimg\n",
        "import gc\n",
        "from tqdm import tqdm\n",
        "\n",
        "\n",
        "import keras\n",
        "from tensorflow.keras.preprocessing.image import ImageDataGenerator\n",
        "from tensorflow.keras.models import Model\n",
        "from tensorflow.keras.layers import BatchNormalization, Dense, GlobalAveragePooling2D, Lambda, Dropout, InputLayer, Input\n",
        "from tensorflow.keras.utils import to_categorical\n",
        "from tensorflow.keras.preprocessing.image import load_img"
      ]
    },
    {
      "cell_type": "markdown",
      "metadata": {
        "id": "mEHpHuyWkLDU"
      },
      "source": []
    },
    {
      "cell_type": "markdown",
      "metadata": {
        "id": "8e4ISZd4yZRg"
      },
      "source": [
        "Definicija funkcije koja broji sve fajlove u folderu"
      ]
    },
    {
      "cell_type": "code",
      "execution_count": null,
      "metadata": {
        "id": "BiAzhhmKycMU"
      },
      "outputs": [],
      "source": [
        "def get_num_files(path):\n",
        "    if not os.path.exists(path):\n",
        "        return 0\n",
        "    return sum([len(files) for r, d, files in os.walk(path)])"
      ]
    },
    {
      "cell_type": "markdown",
      "metadata": {
        "id": "whuHkMusykcV"
      },
      "source": [
        "Učitavanje direktorijuma sa podacima:"
      ]
    },
    {
      "cell_type": "code",
      "execution_count": null,
      "metadata": {
        "colab": {
          "base_uri": "https://localhost:8080/"
        },
        "id": "vBeeetBryoPE",
        "outputId": "f21eeb56-6fe6-414d-87fc-1388bbdeeeda"
      },
      "outputs": [
        {
          "name": "stdout",
          "output_type": "stream",
          "text": [
            "Data samples size:  10222\n",
            "Test samples size:  10357\n"
          ]
        }
      ],
      "source": [
        "train_dir = 'D:/Dogs/train'\n",
        "test_dir = 'D:/Dogs/test'\n",
        "\n",
        "data_size = get_num_files(train_dir)\n",
        "test_size = get_num_files(test_dir)\n",
        "print('Data samples size: ', data_size)\n",
        "print('Test samples size: ', test_size)"
      ]
    },
    {
      "cell_type": "code",
      "execution_count": null,
      "metadata": {
        "colab": {
          "base_uri": "https://localhost:8080/",
          "height": 363
        },
        "id": "gtHxJ8Bo19Gd",
        "outputId": "b02d6711-a9b7-49f4-9b70-2ebdec6d8009"
      },
      "outputs": [
        {
          "data": {
            "text/html": [
              "<div>\n",
              "<style scoped>\n",
              "    .dataframe tbody tr th:only-of-type {\n",
              "        vertical-align: middle;\n",
              "    }\n",
              "\n",
              "    .dataframe tbody tr th {\n",
              "        vertical-align: top;\n",
              "    }\n",
              "\n",
              "    .dataframe thead th {\n",
              "        text-align: right;\n",
              "    }\n",
              "</style>\n",
              "<table border=\"1\" class=\"dataframe\">\n",
              "  <thead>\n",
              "    <tr style=\"text-align: right;\">\n",
              "      <th></th>\n",
              "      <th>id</th>\n",
              "      <th>breed</th>\n",
              "    </tr>\n",
              "  </thead>\n",
              "  <tbody>\n",
              "    <tr>\n",
              "      <th>0</th>\n",
              "      <td>000bec180eb18c7604dcecc8fe0dba07</td>\n",
              "      <td>boston_bull</td>\n",
              "    </tr>\n",
              "    <tr>\n",
              "      <th>1</th>\n",
              "      <td>001513dfcb2ffafc82cccf4d8bbaba97</td>\n",
              "      <td>dingo</td>\n",
              "    </tr>\n",
              "    <tr>\n",
              "      <th>2</th>\n",
              "      <td>001cdf01b096e06d78e9e5112d419397</td>\n",
              "      <td>pekinese</td>\n",
              "    </tr>\n",
              "    <tr>\n",
              "      <th>3</th>\n",
              "      <td>00214f311d5d2247d5dfe4fe24b2303d</td>\n",
              "      <td>bluetick</td>\n",
              "    </tr>\n",
              "    <tr>\n",
              "      <th>4</th>\n",
              "      <td>0021f9ceb3235effd7fcde7f7538ed62</td>\n",
              "      <td>golden_retriever</td>\n",
              "    </tr>\n",
              "    <tr>\n",
              "      <th>5</th>\n",
              "      <td>002211c81b498ef88e1b40b9abf84e1d</td>\n",
              "      <td>bedlington_terrier</td>\n",
              "    </tr>\n",
              "    <tr>\n",
              "      <th>6</th>\n",
              "      <td>00290d3e1fdd27226ba27a8ce248ce85</td>\n",
              "      <td>bedlington_terrier</td>\n",
              "    </tr>\n",
              "    <tr>\n",
              "      <th>7</th>\n",
              "      <td>002a283a315af96eaea0e28e7163b21b</td>\n",
              "      <td>borzoi</td>\n",
              "    </tr>\n",
              "    <tr>\n",
              "      <th>8</th>\n",
              "      <td>003df8b8a8b05244b1d920bb6cf451f9</td>\n",
              "      <td>basenji</td>\n",
              "    </tr>\n",
              "    <tr>\n",
              "      <th>9</th>\n",
              "      <td>0042188c895a2f14ef64a918ed9c7b64</td>\n",
              "      <td>scottish_deerhound</td>\n",
              "    </tr>\n",
              "  </tbody>\n",
              "</table>\n",
              "</div>"
            ],
            "text/plain": [
              "                                 id               breed\n",
              "0  000bec180eb18c7604dcecc8fe0dba07         boston_bull\n",
              "1  001513dfcb2ffafc82cccf4d8bbaba97               dingo\n",
              "2  001cdf01b096e06d78e9e5112d419397            pekinese\n",
              "3  00214f311d5d2247d5dfe4fe24b2303d            bluetick\n",
              "4  0021f9ceb3235effd7fcde7f7538ed62    golden_retriever\n",
              "5  002211c81b498ef88e1b40b9abf84e1d  bedlington_terrier\n",
              "6  00290d3e1fdd27226ba27a8ce248ce85  bedlington_terrier\n",
              "7  002a283a315af96eaea0e28e7163b21b              borzoi\n",
              "8  003df8b8a8b05244b1d920bb6cf451f9             basenji\n",
              "9  0042188c895a2f14ef64a918ed9c7b64  scottish_deerhound"
            ]
          },
          "execution_count": 5,
          "metadata": {},
          "output_type": "execute_result"
        }
      ],
      "source": [
        "labels_dataframe = pd.read_csv('D:/Dogs/labels.csv')\n",
        "\n",
        "sample_df = pd.read_csv('D:/Dogs/sample_submission.csv')\n",
        "\n",
        "labels_dataframe.head(10)"
      ]
    },
    {
      "cell_type": "markdown",
      "metadata": {
        "id": "MnSLcQGY25o0"
      },
      "source": [
        "Prikaz jedne fotografije:"
      ]
    },
    {
      "cell_type": "code",
      "execution_count": null,
      "metadata": {
        "colab": {
          "base_uri": "https://localhost:8080/",
          "height": 617
        },
        "id": "-SjsRoJ128KG",
        "outputId": "b1809aa8-4ea5-44d4-eef3-b85b94b79eb4"
      },
      "outputs": [
        {
          "data": {
            "image/jpeg": "[encoded data removed]",
            "text/plain": [
              "<IPython.core.display.Image object>"
            ]
          },
          "execution_count": 21,
          "metadata": {},
          "output_type": "execute_result"
        }
      ],
      "source": [
        "from IPython.display import Image\n",
        "\n",
        "path = \"D:/Dogs/train/000bec180eb18c7604dcecc8fe0dba07.jpg\"\n",
        "Image(filename=path)"
      ]
    },
    {
      "cell_type": "markdown",
      "metadata": {
        "id": "h8U3G96D7Me2"
      },
      "source": [
        "Sortiranje liste sa rasama i prikaz prvih 10"
      ]
    },
    {
      "cell_type": "code",
      "execution_count": null,
      "metadata": {
        "colab": {
          "base_uri": "https://localhost:8080/"
        },
        "id": "MY7bnkXY7SR6",
        "outputId": "81abe0cb-773c-4961-c85f-28a48e77d54e"
      },
      "outputs": [
        {
          "name": "stdout",
          "output_type": "stream",
          "text": [
            "120\n"
          ]
        },
        {
          "data": {
            "text/plain": [
              "['affenpinscher',\n",
              " 'afghan_hound',\n",
              " 'african_hunting_dog',\n",
              " 'airedale',\n",
              " 'american_staffordshire_terrier',\n",
              " 'appenzeller',\n",
              " 'australian_terrier',\n",
              " 'basenji',\n",
              " 'basset',\n",
              " 'beagle']"
            ]
          },
          "execution_count": 6,
          "metadata": {},
          "output_type": "execute_result"
        }
      ],
      "source": [
        "dog_breeds = sorted(list(set(labels_dataframe['breed'])))\n",
        "n_classes = len(dog_breeds)\n",
        "print(n_classes)\n",
        "dog_breeds[:10]"
      ]
    },
    {
      "cell_type": "markdown",
      "metadata": {
        "id": "2d32Oo9u6yG2"
      },
      "source": [
        "rečnik pojmova:"
      ]
    },
    {
      "cell_type": "code",
      "execution_count": null,
      "metadata": {
        "id": "avYWofPg63hT"
      },
      "outputs": [],
      "source": [
        "class_to_num = dict(zip(dog_breeds, range(n_classes)))"
      ]
    },
    {
      "cell_type": "markdown",
      "metadata": {
        "id": "HOevsDVq5Zuq"
      },
      "source": [
        "Smeštanje slika u niz:"
      ]
    },
    {
      "cell_type": "code",
      "execution_count": null,
      "metadata": {
        "id": "zS4D5I0y5cSq"
      },
      "outputs": [],
      "source": [
        "def images_to_array(data_dir, labels_dataframe, img_size = (224,224,3)):\n",
        "\n",
        "  images_names = labels_dataframe['id']\n",
        "  images_labels = labels_dataframe['breed']\n",
        "  data_size = len(images_names)\n",
        "  #initailize output arrays\n",
        "  X = np.zeros([data_size, img_size[0], img_size[1], img_size[2]], dtype = np.uint8)\n",
        "  Y = np.zeros([data_size,1], dtype = np.uint8)\n",
        "  #read data and labels\n",
        "  for i in tqdm(range(data_size)):\n",
        "    image_name = images_names[i]\n",
        "    img_dir = os.path.join(data_dir, image_name + '.jpg')\n",
        "    img_pixels = load_img(img_dir, target_size = img_size)\n",
        "    X[i] = img_pixels\n",
        "\n",
        "    image_breed = images_labels[i]\n",
        "    Y[i] = class_to_num[image_breed]\n",
        "\n",
        "\n",
        "  Y = to_categorical(Y)\n",
        "  #shuffle\n",
        "  ind = np.random.permutation(data_size)\n",
        "  X = X[ind]\n",
        "  Y = Y[ind]\n",
        "  print('Output data size: ', X.shape)\n",
        "  print('Output label size: ', Y.shape)\n",
        "  return X, Y\n",
        "  gc.collect()"
      ]
    },
    {
      "cell_type": "markdown",
      "metadata": {
        "id": "hapVEzx17vUm"
      },
      "source": [
        "Definisanje rezolucije fotografija:"
      ]
    },
    {
      "cell_type": "code",
      "execution_count": null,
      "metadata": {
        "colab": {
          "base_uri": "https://localhost:8080/"
        },
        "id": "j04aR-JP7ydm",
        "outputId": "716f5206-ce42-4fdf-ceea-56971d06111e"
      },
      "outputs": [
        {
          "name": "stderr",
          "output_type": "stream",
          "text": [
            "100%|████████████████████████████████████████████████████████████████████████████| 10222/10222 [02:11<00:00, 77.88it/s]\n"
          ]
        },
        {
          "name": "stdout",
          "output_type": "stream",
          "text": [
            "Output data size:  (10222, 250, 250, 3)\n",
            "Output label size:  (10222, 120)\n"
          ]
        }
      ],
      "source": [
        "img_size = (250,250,3)\n",
        "X, Y = images_to_array(train_dir, labels_dataframe, img_size)"
      ]
    },
    {
      "cell_type": "markdown",
      "metadata": {
        "id": "NwqUduV48RRM"
      },
      "source": [
        "Definisanje get_features funkcije:"
      ]
    },
    {
      "cell_type": "code",
      "execution_count": null,
      "metadata": {
        "id": "nh0viGks8WAc"
      },
      "outputs": [],
      "source": [
        "def get_features(model_name, data_preprocessor, input_size, data):\n",
        "\n",
        "    #Prepare pipeline.\n",
        "    input_layer = Input(input_size)\n",
        "    preprocessor = Lambda(data_preprocessor)(input_layer)\n",
        "    base_model = model_name(weights='imagenet', include_top=False,\n",
        "                            input_shape=input_size)(preprocessor)\n",
        "    avg = GlobalAveragePooling2D()(base_model)\n",
        "    feature_extractor = Model(inputs = input_layer, outputs = avg)\n",
        "    #Extract feature.\n",
        "    feature_maps = feature_extractor.predict(data, batch_size=64, verbose=1)\n",
        "    print('Feature maps shape: ', feature_maps.shape)\n",
        "    return feature_maps\n",
        "    gc.collect()"
      ]
    },
    {
      "cell_type": "markdown",
      "metadata": {
        "id": "OnsB1ckF8fL2"
      },
      "source": [
        "CNN"
      ]
    },
    {
      "cell_type": "code",
      "execution_count": null,
      "metadata": {
        "colab": {
          "base_uri": "https://localhost:8080/"
        },
        "id": "9QXzl4068gKa",
        "outputId": "c3ffaf2c-8ac7-4c14-9b13-da21d1532ecb"
      },
      "outputs": [
        {
          "name": "stdout",
          "output_type": "stream",
          "text": [
            "Downloading data from https://storage.googleapis.com/tensorflow/keras-applications/inception_v3/inception_v3_weights_tf_dim_ordering_tf_kernels_notop.h5\n",
            "87910968/87910968 [==============================] - 4s 0us/step\n",
            "160/160 [==============================] - 460s 3s/step\n",
            "Feature maps shape:  (10222, 2048)\n"
          ]
        }
      ],
      "source": [
        "from keras.applications.inception_v3 import InceptionV3, preprocess_input\n",
        "inception_preprocessor = preprocess_input\n",
        "inception_features = get_features(InceptionV3,\n",
        "                                  inception_preprocessor,\n",
        "                                  img_size, X)"
      ]
    },
    {
      "cell_type": "code",
      "execution_count": null,
      "metadata": {
        "colab": {
          "base_uri": "https://localhost:8080/"
        },
        "id": "WiWzev0AApEM",
        "outputId": "b1b09db9-1b53-4aa4-8053-aa7da6ac60d6"
      },
      "outputs": [
        {
          "name": "stdout",
          "output_type": "stream",
          "text": [
            "Final feature maps shape (10222, 2048)\n"
          ]
        }
      ],
      "source": [
        "final_features = inception_features\n",
        "print('Final feature maps shape', final_features.shape)"
      ]
    },
    {
      "cell_type": "markdown",
      "metadata": {
        "id": "II2BXgSLAxcV"
      },
      "source": [
        "EarlyStopping callback"
      ]
    },
    {
      "cell_type": "code",
      "execution_count": null,
      "metadata": {
        "id": "DPw9nuoYA0fw"
      },
      "outputs": [],
      "source": [
        "from keras.callbacks import EarlyStopping\n",
        "#Prepare call backs\n",
        "EarlyStop_callback = keras.callbacks.EarlyStopping(monitor='val_loss', patience=10, restore_best_weights=True)\n",
        "my_callback=[EarlyStop_callback]"
      ]
    },
    {
      "cell_type": "markdown",
      "metadata": {
        "id": "7lOOS7YuBV4s"
      },
      "source": [
        "**Best case**\n"
      ]
    },
    {
      "cell_type": "code",
      "execution_count": null,
      "metadata": {
        "colab": {
          "base_uri": "https://localhost:8080/"
        },
        "id": "ZtFx4vl-BW23",
        "outputId": "1e2f12b5-5c43-4641-e806-0aa3221d5eaf"
      },
      "outputs": [
        {
          "name": "stdout",
          "output_type": "stream",
          "text": [
            "Epoch 1/60\n",
            "72/72 [==============================] - 1s 9ms/step - loss: 2.6102 - accuracy: 0.4316 - val_loss: 0.6956 - val_accuracy: 0.8172\n",
            "Epoch 2/60\n",
            "72/72 [==============================] - 0s 6ms/step - loss: 0.8236 - accuracy: 0.7661 - val_loss: 0.5740 - val_accuracy: 0.8328\n",
            "Epoch 3/60\n",
            "72/72 [==============================] - 0s 6ms/step - loss: 0.6434 - accuracy: 0.8047 - val_loss: 0.5635 - val_accuracy: 0.8338\n",
            "Epoch 4/60\n",
            "72/72 [==============================] - 0s 6ms/step - loss: 0.5616 - accuracy: 0.8272 - val_loss: 0.5542 - val_accuracy: 0.8358\n",
            "Epoch 5/60\n",
            "72/72 [==============================] - 0s 6ms/step - loss: 0.5021 - accuracy: 0.8420 - val_loss: 0.5575 - val_accuracy: 0.8348\n",
            "Epoch 6/60\n",
            "72/72 [==============================] - 0s 6ms/step - loss: 0.4634 - accuracy: 0.8526 - val_loss: 0.5737 - val_accuracy: 0.8240\n",
            "Epoch 7/60\n",
            "72/72 [==============================] - 0s 6ms/step - loss: 0.4187 - accuracy: 0.8663 - val_loss: 0.5719 - val_accuracy: 0.8319\n",
            "Epoch 8/60\n",
            "72/72 [==============================] - 0s 6ms/step - loss: 0.3929 - accuracy: 0.8735 - val_loss: 0.5685 - val_accuracy: 0.8514\n",
            "Epoch 9/60\n",
            "72/72 [==============================] - 0s 6ms/step - loss: 0.3752 - accuracy: 0.8765 - val_loss: 0.6034 - val_accuracy: 0.8299\n",
            "Epoch 10/60\n",
            "72/72 [==============================] - 0s 6ms/step - loss: 0.3435 - accuracy: 0.8834 - val_loss: 0.6098 - val_accuracy: 0.8358\n",
            "Epoch 11/60\n",
            "72/72 [==============================] - 0s 6ms/step - loss: 0.3380 - accuracy: 0.8889 - val_loss: 0.5826 - val_accuracy: 0.8368\n",
            "Epoch 12/60\n",
            "72/72 [==============================] - 0s 6ms/step - loss: 0.3239 - accuracy: 0.8924 - val_loss: 0.6041 - val_accuracy: 0.8358\n",
            "Epoch 13/60\n",
            "72/72 [==============================] - 0s 6ms/step - loss: 0.3163 - accuracy: 0.8913 - val_loss: 0.6084 - val_accuracy: 0.8407\n",
            "Epoch 14/60\n",
            "72/72 [==============================] - 0s 6ms/step - loss: 0.2908 - accuracy: 0.8989 - val_loss: 0.6021 - val_accuracy: 0.8377\n"
          ]
        },
        {
          "data": {
            "text/plain": [
              "1539"
            ]
          },
          "execution_count": 14,
          "metadata": {},
          "output_type": "execute_result"
        }
      ],
      "source": [
        "gc.collect()\n",
        "#Prepare DNN model\n",
        "dnn = keras.models.Sequential([\n",
        "    InputLayer(final_features.shape[1:]),\n",
        "    Dropout(0.7),\n",
        "    Dense(n_classes, activation='softmax')\n",
        "])\n",
        "\n",
        "dnn.compile(optimizer='adam',\n",
        "              loss='categorical_crossentropy',\n",
        "              metrics=['accuracy'])\n",
        "\n",
        "#Train simple DNN on extracted features.\n",
        "h = dnn.fit(final_features, Y,\n",
        "            batch_size=128,\n",
        "            epochs=60,\n",
        "            validation_split=0.1,\n",
        "            callbacks=EarlyStop_callback)\n",
        "gc.collect()"
      ]
    },
    {
      "cell_type": "markdown",
      "metadata": {
        "id": "G0iAnjv3B1-r"
      },
      "source": [
        "Prikaz tačnosti istreniranog modela:"
      ]
    },
    {
      "cell_type": "code",
      "execution_count": null,
      "metadata": {
        "colab": {
          "base_uri": "https://localhost:8080/",
          "height": 312
        },
        "id": "kYc2SPsvB4YQ",
        "outputId": "cb52a7f1-022e-4562-aea8-4a0ff3c8e212"
      },
      "outputs": [
        {
          "data": {
            "image/png": "[encoded data removed]",
            "text/plain": [
              "<Figure size 640x480 with 1 Axes>"
            ]
          },
          "metadata": {},
          "output_type": "display_data"
        },
        {
          "data": {
            "text/plain": [
              "3288"
            ]
          },
          "execution_count": 15,
          "metadata": {},
          "output_type": "execute_result"
        }
      ],
      "source": [
        "keras.backend.clear_session()\n",
        "plt.plot(h.history['accuracy'])\n",
        "plt.plot(h.history['val_accuracy'])\n",
        "plt.title('model accuracy')\n",
        "plt.ylabel('accuracy')\n",
        "plt.xlabel('epoch')\n",
        "plt.legend(['train', 'test'], loc='upper left')\n",
        "plt.show()\n",
        "gc.collect()"
      ]
    },
    {
      "cell_type": "markdown",
      "metadata": {
        "id": "-sAQ_hF4B-wT"
      },
      "source": [
        "Ponovno ubacivanje slika u niz i druga funkcija za testiranje podataka:"
      ]
    },
    {
      "cell_type": "code",
      "execution_count": null,
      "metadata": {
        "colab": {
          "base_uri": "https://localhost:8080/"
        },
        "id": "XiqqGg6kCFck",
        "outputId": "27daee3d-693b-46a3-8587-98aa89933d2c"
      },
      "outputs": [
        {
          "name": "stderr",
          "output_type": "stream",
          "text": [
            "100%|████████████████████████████████████████████████████████████████████████████| 10357/10357 [02:09<00:00, 80.00it/s]"
          ]
        },
        {
          "name": "stdout",
          "output_type": "stream",
          "text": [
            "Ouptut data size:  (10357, 250, 250, 3)\n"
          ]
        },
        {
          "name": "stderr",
          "output_type": "stream",
          "text": [
            "\n"
          ]
        }
      ],
      "source": [
        "gc.collect()\n",
        "def images_to_array2(data_dir, labels_dataframe, img_size = (224,224,3)):\n",
        "\n",
        "    images_names = labels_dataframe['id']\n",
        "    data_size = len(images_names)\n",
        "    X = np.zeros([data_size, img_size[0], img_size[1], 3], dtype=np.uint8)\n",
        "\n",
        "    for i in tqdm(range(data_size)):\n",
        "        image_name = images_names[i]\n",
        "        img_dir = os.path.join(data_dir, image_name+'.jpg')\n",
        "        img_pixels = tf.keras.preprocessing.image.load_img(img_dir, target_size=img_size)\n",
        "        X[i] = img_pixels\n",
        "\n",
        "    print('Ouptut data size: ', X.shape)\n",
        "    return X\n",
        "\n",
        "test_data = images_to_array2(test_dir, sample_df, img_size)"
      ]
    },
    {
      "cell_type": "code",
      "execution_count": null,
      "metadata": {
        "colab": {
          "base_uri": "https://localhost:8080/"
        },
        "id": "-IZ1BZaQCaiM",
        "outputId": "960ce31d-c3fa-4542-a410-fd2529a035c6"
      },
      "outputs": [
        {
          "name": "stdout",
          "output_type": "stream",
          "text": [
            "162/162 [==============================] - 459s 3s/step\n",
            "Feature maps shape:  (10357, 2048)\n",
            "Final feature maps shape (10357, 2048)\n"
          ]
        }
      ],
      "source": [
        "#Extract test data features\n",
        "inception_features = get_features(InceptionV3, inception_preprocessor, img_size, test_data)\n",
        "\n",
        "test_features = inception_features\n",
        "print('Final feature maps shape', test_features.shape)"
      ]
    },
    {
      "cell_type": "code",
      "execution_count": null,
      "metadata": {
        "colab": {
          "base_uri": "https://localhost:8080/"
        },
        "id": "BaaQzzo4HNN0",
        "outputId": "2bc49815-ce7c-4f31-ea9f-852722db01a7"
      },
      "outputs": [
        {
          "name": "stdout",
          "output_type": "stream",
          "text": [
            "81/81 [==============================] - 0s 2ms/step\n"
          ]
        }
      ],
      "source": [
        "y_pred = dnn.predict(test_features, batch_size=128)"
      ]
    },
    {
      "cell_type": "markdown",
      "metadata": {
        "id": "v2cK9E2DHWoy"
      },
      "source": [
        "Pisanje rezultata u novi fajl:"
      ]
    },
    {
      "cell_type": "code",
      "execution_count": null,
      "metadata": {
        "id": "Yak17IGPHcOi"
      },
      "outputs": [],
      "source": [
        "for b in dog_breeds:\n",
        "    sample_df[b] = y_pred[:,class_to_num[b]]\n",
        "sample_df.to_csv('C:/Users/Ema/Desktop/FAKS/CETVRTA GOD/prepoznavanje oblika/Rezultati.txt', index=None)"
      ]
    },
    {
      "cell_type": "markdown",
      "metadata": {
        "id": "w9uNm2MlbKIl"
      },
      "source": [
        "**Literatura**\n",
        "\n",
        "Keras - https://keras.io/api/applications/inceptionv3/\n",
        "\n",
        "Papers with code: https://paperswithcode.com/method/inception-v3\n",
        "\n",
        "Nepreciznost i linarne klasifikacija - https://medium.com/mindorks/classification-problems-with-tensorflow-27eab36aa037\n",
        "\n",
        "Adam - https://machinelearningmastery.com/adam-optimization-algorithm-for-deep-learning/\n",
        "\n",
        "\n"
      ]
    },
    {
      "cell_type": "markdown",
      "metadata": {
        "id": "tj8jssFMdJf7"
      },
      "source": [
        "**Zaključak**\n",
        "\n",
        "Sama izrada projekta je bila veoma interesantna i tokom izrade sam stekla uvid koliko je oblast dubokog učenja kompleksna."
      ]
    }
  ],
  "metadata": {
    "colab": {
      "provenance": [],
      "toc_visible": true,
      "include_colab_link": true
    },
    "kernelspec": {
      "display_name": "Python 3 (ipykernel)",
      "language": "python",
      "name": "python3"
    },
    "language_info": {
      "codemirror_mode": {
        "name": "ipython",
        "version": 3
      },
      "file_extension": ".py",
      "mimetype": "text/x-python",
      "name": "python",
      "nbconvert_exporter": "python",
      "pygments_lexer": "ipython3",
      "version": "3.9.13"
    }
  },
  "nbformat": 4,
  "nbformat_minor": 0
}